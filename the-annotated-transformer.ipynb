{
  "nbformat": 4,
  "nbformat_minor": 0,
  "metadata": {
    "kernelspec": {
      "name": "python3",
      "display_name": "Python 3"
    },
    "language_info": {
      "codemirror_mode": {
        "name": "ipython",
        "version": 3
      },
      "file_extension": ".py",
      "mimetype": "text/x-python",
      "name": "python",
      "nbconvert_exporter": "python",
      "pygments_lexer": "ipython3",
      "version": "3.7.4"
    },
    "colab": {
      "name": "the-annotated-transformer.ipynb",
      "provenance": [],
      "include_colab_link": true
    },
    "accelerator": "GPU"
  },
  "cells": [
    {
      "cell_type": "markdown",
      "metadata": {
        "id": "view-in-github",
        "colab_type": "text"
      },
      "source": [
        "<a href=\"https://colab.research.google.com/github/alanwuha/the-annotated-transformer/blob/master/the-annotated-transformer.ipynb\" target=\"_parent\"><img src=\"https://colab.research.google.com/assets/colab-badge.svg\" alt=\"Open In Colab\"/></a>"
      ]
    },
    {
      "cell_type": "markdown",
      "metadata": {
        "id": "UScI1O5VySa3",
        "colab_type": "text"
      },
      "source": [
        "# Attention Is All You Need"
      ]
    },
    {
      "cell_type": "markdown",
      "metadata": {
        "id": "ssbT2os45Kie",
        "colab_type": "text"
      },
      "source": [
        "## Abstract\n",
        "\n",
        "The dominant sequence transduction models are based on complex recurrent or convolutional neural networks that include and __encoder__ and a __decoder__. The best performing models also connect the encoder and decoder through an attention mechanism.\n",
        "\n",
        "We propose a new simple network architecture, the __Transformer__, __based solely on attention mechanisms__, dispensing with recurrence and convolutions entirely.\n",
        "\n",
        "Experiments on __two machine translation tasks__ show these models to be __superior in quality__ while being __more parallelizable__ and requiring significantly __less time to train__.\n",
        "\n",
        "Our model achieves 28.4 BLEU on the WMT 2014 English-to-German translation task, improving over the existing best results, including ensembles, by over 2 BLEU. On the WMT 2014 English-to-French translation task, our model establishes a new single-model state-of-the-art BLEU score of 41.8 after training for 3.5 days on eight GPUs, a small fraction of the training costs of the best models from the literature.\n",
        "\n",
        "We show that the Transformer generalizes well to other tasks by applying it successfully to English constituency parsing both with large and limited training data.\n",
        "\n",
        "## Major points of this new Transformer architecture:\n",
        "1. Superior in quality\n",
        "1. More parallelizable\n",
        "1. Significantly less time to train"
      ]
    },
    {
      "cell_type": "markdown",
      "metadata": {
        "id": "t9Vt7vvW6xAZ",
        "colab_type": "text"
      },
      "source": [
        "## Prelims"
      ]
    },
    {
      "cell_type": "code",
      "metadata": {
        "id": "yTaGaFOl7bOV",
        "colab_type": "code",
        "outputId": "1af4d851-3c16-4113-8162-683a0b2aa904",
        "colab": {
          "base_uri": "https://localhost:8080/",
          "height": 241
        }
      },
      "source": [
        "!pip install http://download.pytorch.org/whl/cu80/torch-0.3.0.post4-cp36-cp36m-linux_x86_64.whl"
      ],
      "execution_count": 1,
      "outputs": [
        {
          "output_type": "stream",
          "text": [
            "Collecting torch==0.3.0.post4\n",
            "\u001b[?25l  Downloading http://download.pytorch.org/whl/cu80/torch-0.3.0.post4-cp36-cp36m-linux_x86_64.whl (592.3MB)\n",
            "\u001b[K     |████████████████████████████████| 592.3MB 1.1MB/s \n",
            "\u001b[?25hRequirement already satisfied: numpy in /usr/local/lib/python3.6/dist-packages (from torch==0.3.0.post4) (1.18.2)\n",
            "Requirement already satisfied: pyyaml in /usr/local/lib/python3.6/dist-packages (from torch==0.3.0.post4) (3.13)\n",
            "\u001b[31mERROR: torchvision 0.5.0 has requirement torch==1.4.0, but you'll have torch 0.3.0.post4 which is incompatible.\u001b[0m\n",
            "\u001b[31mERROR: fastai 1.0.60 has requirement torch>=1.0.0, but you'll have torch 0.3.0.post4 which is incompatible.\u001b[0m\n",
            "Installing collected packages: torch\n",
            "  Found existing installation: torch 1.4.0\n",
            "    Uninstalling torch-1.4.0:\n",
            "      Successfully uninstalled torch-1.4.0\n",
            "Successfully installed torch-0.3.0.post4\n"
          ],
          "name": "stdout"
        }
      ]
    },
    {
      "cell_type": "code",
      "metadata": {
        "id": "pKO52znl7kZq",
        "colab_type": "code",
        "colab": {}
      },
      "source": [
        "import numpy as np\n",
        "import torch\n",
        "import torch.nn as nn\n",
        "import torch.nn.functional as F\n",
        "import math, copy, time\n",
        "from torch.autograd import Variable\n",
        "import matplotlib.pyplot as plt\n",
        "import seaborn\n",
        "seaborn.set_context(context=\"talk\")\n",
        "%matplotlib inline"
      ],
      "execution_count": 0,
      "outputs": []
    },
    {
      "cell_type": "markdown",
      "metadata": {
        "id": "1_rDCxUL7xz6",
        "colab_type": "text"
      },
      "source": [
        "## Background\n",
        "\n",
        "The goal of reducing sequential computation also forms the foundation of the Extended Neural GPU, ByteNet and ConvS2S, all of which use convolutional neural networks as basic building blocks, computing hidden representations in parallel for all input and output positions. In these models, the number of operations required to relate signals from two arbitrary input or output positions grows in the distance between positions, linearly for ConvS2S and logarithmically for ByteNet. This makes it more difficult to learn dependencies between distant positions. In the Transformer this is reduced to a constant number of operations, albeit at the cost of reduced effective resolution due to averaging attention-weighted positions, an effect we counteract with Multi-Head Attention.\n",
        "\n",
        "Self-attention, sometimes called intra-attention is an attention mechanism relating different positions of a single sequence in order to compute a representation of the sequence. Self-attention has been used successfully in a variety of tasks including reading comprehension, abstractive summarization, textual entailment and learning task-independent sentence representations. End-to-end memory networks are based on a recurrent attention mechanism instead of sequence aligned recurrence and have been shown to perform well on simple-language question answering and language modeling tasks.\n",
        "\n",
        "__To the best of our knowledge, however, the Transformer is the first transduction model relying entirely on self-attention to compute representations of its input and output without using sequence aligned RNNs or convolution.__"
      ]
    },
    {
      "cell_type": "markdown",
      "metadata": {
        "id": "zhrqRxSf98f0",
        "colab_type": "text"
      },
      "source": [
        "## Model Architecture\n",
        "\n",
        "__Most competitive neural sequence transduction models have an encoder-decoder structure__.\n",
        "\n",
        "Here, the encoder maps an input sequence of symbol representations (x1, ..., xn) to a sequence of continuous representations z = (z1, ..., zn). Given __z__, the decoder then generates an output sequence (y1, ..., ym) of symbols one element at a time. At each step the model is __auto-regressive__, consuming the previously generated symbols as additional input when generating the next.\n",
        "\n",
        "1. __Encoder__: maps input sequence of symbol representations (x1, ..., xn) to a sequence of continuous representations z = (z1, ..., zn).\n",
        "1. __Decoder__: given z, decoder generates an output sequence (y1, ..., ym) of symbols one element at a time.\n",
        "1. __Auto-regressive__: A time series model that uses observations from previous time steps as input to a regression equation to predict the value at the next time step. It is a very __simple idea that can result in accurate forecasts on a range of time series problems__."
      ]
    },
    {
      "cell_type": "code",
      "metadata": {
        "id": "n-UPzSw8_IK8",
        "colab_type": "code",
        "colab": {}
      },
      "source": [
        "class EncoderDecoder(nn.Module):\n",
        "  \"\"\"\n",
        "  A standard Encoder-Decoder architecture. Base for this and many other models.\n",
        "  \"\"\"\n",
        "  def __init__(self, encoder, decoder, src_embed, tgt_embed, generator):\n",
        "    super(EncoderDecoder, self).__init__()\n",
        "    self.encoder = encoder\n",
        "    self.decoder = decoder\n",
        "    self.src_embed = src_embed\n",
        "    self.tgt_embed = tgt_embed\n",
        "    self.generator = generator\n",
        "\n",
        "  def forward(self, src, tgt, src_mask, tgt_mask):\n",
        "    \"Take in and process masked src and target sequences.\"\n",
        "    return self.decode( self.encode(src, src_mask), src_mask, tgt, tgt_mask )\n",
        "\n",
        "  def encode(self, src, src_mask):\n",
        "    return self.encoder( self.src_embed(src), src_mask )\n",
        "\n",
        "  def decode(self, memory, src_mask, tgt, tgt_mask):\n",
        "    return self.decoder( self.tgt_embed(tgt), memory, src_mask, tgt_mask )"
      ],
      "execution_count": 0,
      "outputs": []
    },
    {
      "cell_type": "code",
      "metadata": {
        "id": "oHT9ZWCKCDiN",
        "colab_type": "code",
        "colab": {}
      },
      "source": [
        "class Generator(nn.Module):\n",
        "  \"Define standard linear + softmax generation step.\"\n",
        "  def __init__(self, d_model, vocab):\n",
        "    super(Generator, self).__init__()\n",
        "    self.proj = nn.Linear(d_model, vocab)\n",
        "\n",
        "  def forward(self, x):\n",
        "    return F.log_softmax(self.proj(x), dim=-1)"
      ],
      "execution_count": 0,
      "outputs": []
    },
    {
      "cell_type": "markdown",
      "metadata": {
        "id": "OSnyfL8ICSDH",
        "colab_type": "text"
      },
      "source": [
        "The Transformer follows this overall architecture using stacked self-attention and point-wise, fully connected layers for both the encoder and decoder, shown in the left and right halves of Figure 1, respectively."
      ]
    },
    {
      "cell_type": "markdown",
      "metadata": {
        "id": "9SqJDSUDCkqw",
        "colab_type": "text"
      },
      "source": [
        "## Encoder and Decoder Stacks"
      ]
    },
    {
      "cell_type": "markdown",
      "metadata": {
        "id": "6pLcPg17C_qQ",
        "colab_type": "text"
      },
      "source": [
        "### Encoder\n",
        "\n",
        "The encoder is composed of a stack of N = 6 identical layers."
      ]
    },
    {
      "cell_type": "code",
      "metadata": {
        "id": "6_yKInE_DEQ6",
        "colab_type": "code",
        "colab": {}
      },
      "source": [
        "def clones(module, N):\n",
        "  \"Produce N identical layers.\"\n",
        "  return nn.ModuleList([copy.deepcopy(module) for _ in range(N)])"
      ],
      "execution_count": 0,
      "outputs": []
    },
    {
      "cell_type": "code",
      "metadata": {
        "id": "-ev9XNivDRpF",
        "colab_type": "code",
        "colab": {}
      },
      "source": [
        "class Encoder(nn.Module):\n",
        "  \"Core encoder is a stack of N layers\"\n",
        "  def __init__(self, layer, N):\n",
        "    super(Encoder, self).__init__()\n",
        "    self.layers = clones(layer, N)\n",
        "    self.norm = LayerNorm(layer.size)\n",
        "\n",
        "  def forward(self, x, mask):\n",
        "    \"Pass the input (and mask) through each layer in turn.\"\n",
        "    for layer in self.layers:\n",
        "      x = layer(x, mask)\n",
        "    return self.norm(x)"
      ],
      "execution_count": 0,
      "outputs": []
    },
    {
      "cell_type": "markdown",
      "metadata": {
        "id": "9jPCHFWyDtFe",
        "colab_type": "text"
      },
      "source": [
        "We employ a residual connection [(cite)](https://arxiv.org/abs/1512.03385) around each of the two sub-layers, followed by layer normalization [(cite)](https://arxiv.org/abs/1607.06450)."
      ]
    },
    {
      "cell_type": "code",
      "metadata": {
        "id": "6-fN8PMgD5XH",
        "colab_type": "code",
        "colab": {}
      },
      "source": [
        "class LayerNorm(nn.Module):\n",
        "  \"Construct a layernorm module (See citation for details).\"\n",
        "  def __init__(self, features, eps=1e-6):\n",
        "    super(LayerNorm, self).__init__()\n",
        "    self.a_2 = nn.Parameter(torch.ones(features))\n",
        "    self.b_2 = nn.Parameter(torch.zeros(features))\n",
        "    self.eps = eps\n",
        "\n",
        "  def forward(self, x):\n",
        "    mean = x.mean(-1, keepdim=True)\n",
        "    std = x.std(-1, keepdim=True)\n",
        "    return self.a_2 * (x - mean) / (std + self.eps) + self.b_2"
      ],
      "execution_count": 0,
      "outputs": []
    },
    {
      "cell_type": "markdown",
      "metadata": {
        "id": "dQofrS-XFMvJ",
        "colab_type": "text"
      },
      "source": [
        "That is, the output of each sub-layer is __LayerNorm(x + Sublayer(x))__, where Sublayer(x) is the function implemented by the sub-layer itself. We apply dropout [(cite)](http://jmlr.org/papers/v15/srivastava14a.html) to the output of each sub-layer, before it is added to the sub-layer input and normalized.\n",
        "\n",
        "To facilitate these residual connections, all sub-layers in the model, as well as the embedding layers, produce outputs of dimension _d_<sub>model</sub> = 512."
      ]
    },
    {
      "cell_type": "code",
      "metadata": {
        "id": "WBOaVeR3HHfG",
        "colab_type": "code",
        "colab": {}
      },
      "source": [
        "class SublayerConnection(nn.Module):\n",
        "  \"\"\"\n",
        "  A residual connection followed by a layer norm.\n",
        "  Note for code simplicity the norm is first as opposed to last.\n",
        "  \"\"\"\n",
        "  def __init__(self, size, dropout):\n",
        "    super(SublayerConnection, self).__init__()\n",
        "    self.norm = LayerNorm(size)\n",
        "    self.dropout = nn.Dropout(dropout)\n",
        "\n",
        "  def forward(self, x, sublayer):\n",
        "    \"Apply residual connection to any sublayer with the same size.\"\n",
        "    return x + self.dropout(sublayer(self.norm(x)))"
      ],
      "execution_count": 0,
      "outputs": []
    },
    {
      "cell_type": "markdown",
      "metadata": {
        "id": "Qk8dK9oMHtUE",
        "colab_type": "text"
      },
      "source": [
        "Each layer has two sub-layers. The first is a multi-head self-attention mechanism, and the second is a simple, position-wise fully connected feed-forward network."
      ]
    },
    {
      "cell_type": "code",
      "metadata": {
        "id": "BJc9LjFWJt1U",
        "colab_type": "code",
        "colab": {}
      },
      "source": [
        "class EncoderLayer(nn.Module):\n",
        "  \"Encoder is made up of self-attention and feed forward (defined below)\"\n",
        "  def __init__(self, size, self_attn, feed_forward, dropout):\n",
        "    super(EncoderLayer, self).__init__()\n",
        "    self.self_attn = self_attn\n",
        "    self.feed_forward = feed_forward\n",
        "    self.sublayer = clones(SublayerConnection(size, dropout), 2)\n",
        "    self.size = size\n",
        "\n",
        "  def forward(self, x, mask):\n",
        "    \"Follow Figure 1 (left) for connections.\"\n",
        "    x = self.sublayer[0](x, lambda x: self.self_attn(x, x, x, mask))\n",
        "    return self.sublayer[1](x, self.feed_forward)"
      ],
      "execution_count": 0,
      "outputs": []
    },
    {
      "cell_type": "markdown",
      "metadata": {
        "id": "G3yZT7wlLQVe",
        "colab_type": "text"
      },
      "source": [
        "### Decoder\n",
        "\n",
        "The decoder is also composed of a stack of N = 6 identical layers."
      ]
    },
    {
      "cell_type": "code",
      "metadata": {
        "id": "_iU3jozRLXgz",
        "colab_type": "code",
        "colab": {}
      },
      "source": [
        "class Decoder(nn.Module):\n",
        "  \"Generic N layer decoder with masking.\"\n",
        "  def __init__(self, layer, N):\n",
        "    super(Decoder, self).__init__()\n",
        "    self.layers = clones(layer, N)\n",
        "    self.norm = LayerNorm(layer.size)\n",
        "\n",
        "  def forward(self, x, memory, src_mask, tgt_mask):\n",
        "    for layer in self.layers:\n",
        "      x = layer(x, memory, src_mask, tgt_mask)\n",
        "    return self.norm(x)"
      ],
      "execution_count": 0,
      "outputs": []
    },
    {
      "cell_type": "markdown",
      "metadata": {
        "id": "BINFKDkHL0Ki",
        "colab_type": "text"
      },
      "source": [
        "In addition to the two sub-layers in each encoder layer, the decoder inserts a third sub-layer, which performs multi-head attention over the output of the encoder stack. Similar to the encoder, we employ residual connections around each of the sub-layers, followed by layer normalization."
      ]
    },
    {
      "cell_type": "code",
      "metadata": {
        "id": "wVrdgQmcNUs6",
        "colab_type": "code",
        "colab": {}
      },
      "source": [
        "class DecoderLayer(nn.Module):\n",
        "  \"Decoder is made of self-attn, src-attn, and feed forward (defined below)\"\n",
        "  def __init__(self, size, self_attn, src_attn, feed_forward, dropout):\n",
        "    super(DecoderLayer, self).__init__()\n",
        "    self.size = size\n",
        "    self.self_attn = self_attn\n",
        "    self.src_attn = src_attn\n",
        "    self.feed_forward = feed_forward\n",
        "    self.sublayer = clones(SublayerConnection(size, dropout), 3)\n",
        "\n",
        "  def forward(self, x, memory, src_mask, tgt_mask):\n",
        "    \"Follow Figure 1 (right) for connections.\"\n",
        "    m = memory\n",
        "    x = self.sublayer[0](x, lambda x: self.self_attn(x, x, x, tgt_mask))\n",
        "    x = self.sublayer[1](x, lambda x: self.src_attn(x, m, m, src_mask))\n",
        "    return self.sublayer[2](x, self.feed_forward)"
      ],
      "execution_count": 0,
      "outputs": []
    },
    {
      "cell_type": "markdown",
      "metadata": {
        "id": "S6eHoxRYONOA",
        "colab_type": "text"
      },
      "source": [
        "We also modify the self-attention sub-layer in the decoder stack to prevent positions from attending to subsequent positions. This masking, combined with fact that the output embeddings are offset by one position, ensures that the predictions for position _i_ can depend only on the known outputs at positions less than _i_."
      ]
    },
    {
      "cell_type": "code",
      "metadata": {
        "id": "p3Te8dDxTZy0",
        "colab_type": "code",
        "colab": {}
      },
      "source": [
        "def subsequent_mask(size):\n",
        "  \"Mask out subsequent positions.\"\n",
        "  attn_shape = (1, size, size)\n",
        "  subsequent_mask = np.triu(np.ones(attn_shape), k=1).astype('uint8')\n",
        "  return torch.from_numpy(subsequent_mask) == 0"
      ],
      "execution_count": 0,
      "outputs": []
    },
    {
      "cell_type": "markdown",
      "metadata": {
        "id": "igfSrSEjT7w-",
        "colab_type": "text"
      },
      "source": [
        "Below the attention mask shows the position each tgt word (row) is allowed to look at (column). Words are blocked for attending to future words during training."
      ]
    },
    {
      "cell_type": "code",
      "metadata": {
        "id": "trp_kX0RUFAr",
        "colab_type": "code",
        "outputId": "babcde07-a548-4bfd-9544-7c47b0829fa9",
        "colab": {
          "base_uri": "https://localhost:8080/",
          "height": 333
        }
      },
      "source": [
        "plt.figure(figsize=(5,5))\n",
        "plt.imshow(subsequent_mask(20)[0])\n",
        "None"
      ],
      "execution_count": 13,
      "outputs": [
        {
          "output_type": "display_data",
          "data": {
            "image/png": "[encoded data removed]",
            "text/plain": [
              "<Figure size 360x360 with 1 Axes>"
            ]
          },
          "metadata": {
            "tags": []
          }
        }
      ]
    },
    {
      "cell_type": "markdown",
      "metadata": {
        "id": "s9BAhYDDUOVW",
        "colab_type": "text"
      },
      "source": [
        "### Attention\n",
        "\n",
        "An attention function can be described as mapping a query and a set of key-value pairs to an output, where the query, keys, values, and output are all vectors. The output is computed as a weighted sum of the values, where the weight assigned to each value is computed by a compatibility function of the query with the corresponding key.\n",
        "\n",
        "We call out particular attention \"Scaled Dot-Product Attention\". The input consists of queries and keys of dimension d<sub>k</sub>, and values of dimension d<sub>v</sub>. We compute the dot products of the query with all keys, divide each by sqrt(d<sub>k</sub>), and apply a softmax function to obtain the weights on the values.\n",
        "\n",
        "In practice, we compute the attention function on a set of queries simultaneously, packed together into a matrix Q. The keys and values are also packed together into matrices K and V. We compute the matrix of outputs as:\n",
        "\n",
        "__`Attention(Q, K, V) = softmax(  QK^T / sqrt(d_k) ) * V`__"
      ]
    },
    {
      "cell_type": "code",
      "metadata": {
        "id": "FAtg1h-TVuR3",
        "colab_type": "code",
        "colab": {}
      },
      "source": [
        "def attention(query, key, value, mask=None, dropout=None):\n",
        "  qk = torch.mm(query, key)\n",
        "  scale = (qk - qk.mean()) / (qk.std + eps)\n",
        "  m = torch.mm(scale, mask)\n",
        "  drop = F.dropout(m, dropout)\n",
        "  soft = F.softmax(drop)\n",
        "  return torch.mm(soft, value)\n",
        "\n",
        "  \"Compute 'Scaled Dot Product Attention'\"\n",
        "  d_k = query.size(-1)\n",
        "  scores = torch.matmul(query, key.transpose(-2, -1)) / math.sqrt(d_k)\n",
        "  if mask is not None:\n",
        "    scores = scores.masked_fill(mask == 0, -1e9)\n",
        "  p_attn = F.softmax(scores, dim=-1)\n",
        "  if dropout is not None:\n",
        "    p_attn = dropout(p_attn)\n",
        "  return torch.matmul(p_attn, value), p_attn"
      ],
      "execution_count": 0,
      "outputs": []
    },
    {
      "cell_type": "markdown",
      "metadata": {
        "id": "AApcTlB9XHmf",
        "colab_type": "text"
      },
      "source": [
        "The two most commonly used attention functions are additive attention, and dot-product (multiplicative) attention. Dot-product attention is identical to our algorithm, except for the scaling factor of 1/sqrt(dk). Additive attention computes the compatibility function using a feed-forward network with a single hidden layer. While the two are similar in theoretical complexity, __dot-product attention is much faster and more space-efficient in practice__, since it can be __implemented using highly optimized matrix multiplication code__.\n",
        "\n",
        "While for small values of dk, the two mechanisms perform similarly, additive attention outperforms dot product attention without scaling for larger values of dk. We suspect that for large values of dk, the dot products grow large in magnitude, pushing the softmax function into regions where it has extremely small gradients (To illustrate why the dot products get large, assume that the components of q and k are independent random variables with mean 0 and variance 1. Then their dot product has mean 0 and variance dk). To counteract this effect, we scale the dot products by 1/sqrt(dk))."
      ]
    },
    {
      "cell_type": "markdown",
      "metadata": {
        "id": "LZv2oBRyhWi-",
        "colab_type": "text"
      },
      "source": [
        "Multi-head attention allows the model to jointly attend to information from different representation subspaces at different positions. With a single attention head, averaging inhibits this.\n",
        "\n",
        "In this work we employ h = 8 parallel attention layers, or heads. For each of these we use dk = dv = dmodel / h = 64. Due to the reduced dimension of each head, the total computational cost is similar to that of single-head attention with full dimensionality."
      ]
    },
    {
      "cell_type": "code",
      "metadata": {
        "id": "4QsIM5nHj3V6",
        "colab_type": "code",
        "colab": {}
      },
      "source": [
        "class MultiHeadedAttention(nn.Module):\n",
        "  def __init__(self, h, d_model, dropout=0.1):\n",
        "    \"Take in model size and number of heads.\"\n",
        "    super(MultiHeadedAttention, self).__init__()\n",
        "    assert d_model % h == 0\n",
        "    # We assume d_v always equals d_k\n",
        "    self.d_k = d_model // h\n",
        "    self.h = h\n",
        "    self.linears = clones(nn.Linear(d_model, d_model), 4)\n",
        "    self.attn = None\n",
        "    self.dropout = nn.Dropout(p=dropout)\n",
        "\n",
        "  def forward(self, query, key, value, mask=None):\n",
        "    \"Implements Figure 2\"\n",
        "    if mask is not None:\n",
        "      # Same mask applied to all h heads.\n",
        "      mask = mask.unsqueeze(1)\n",
        "    nbatches = query.size(0)\n",
        "\n",
        "    # 1) Do all the linear projections in batch from d_model => h x d_k\n",
        "    query, key, value = \\\n",
        "      [l(x).view(nbatches, -1, self.h, self.d_k).transpose(1, 2)\n",
        "        for l, x in zip(self.linears, (query, key, value))]\n",
        "\n",
        "    # 2) Apply attention on all the projected vectors in batch.\n",
        "    x, self.attn = attention(query, key, value, mask=mask, dropout=self.dropout)\n",
        "\n",
        "    # 3) \"Concat\" using a view and apply a final linear.\n",
        "    x = x.transpose(1, 2).contiguous() \\\n",
        "          .view(nbatches, -1, self.h * self.d_k)\n",
        "    return self.linears[-1](x)"
      ],
      "execution_count": 0,
      "outputs": []
    },
    {
      "cell_type": "markdown",
      "metadata": {
        "id": "Pq1JqQ6OoeLq",
        "colab_type": "text"
      },
      "source": [
        "## Applications of Attention in our Model\n",
        "\n",
        "The Transformer uses multi-head attention in three different ways:\n",
        "\n",
        "1) In \"encoder-decoder attention\" layers, the queries come from the previous decoder layer, and the memory keys and values come from the output of the encoder. This allows every position in the decoder to attend over all positions in the input sequence. This mimics the typical encoder-decoder attention mechanisms in sequence-to-sequence models as such [(cite)](https://arxiv.org/abs/1609.08144).\n",
        "\n",
        "2) The encoder contains self-attention layers. In a self-attention layer all of the keys, values, and queries come from the same place, in this case, the output of the previous layer in the encoder. Each position in the encoder can attend to all positions in the previous layer of the encoder.\n",
        "\n",
        "3) Similarly, self-attention layers in the decoder allow each position in the decoder to attend to all positions in the decoder up to and including that position. We need to prevent leftward information flow in the decoder to preserve the auto-regressive property. We implement this inside of scaled dot- product attention by masking out (setting to -inf) all values in the input of the softmax which correspond to illegal connections.\n",
        "\n",
        "_What does it mean by illegal connections?_"
      ]
    },
    {
      "cell_type": "markdown",
      "metadata": {
        "id": "rreVgHPGqtJw",
        "colab_type": "text"
      },
      "source": [
        "### Position-wise Feed-Forward Networks\n",
        "\n",
        "In addition to attention sub-layers, each of the layers in our encoder and decoder contains a fully connected feed-forward network, which is applied to each position separately and identically. This consists of two linear transformations with a ReLU activation in between.\n",
        "\n",
        "`FFN(x) = max(0, xW1 + b1) W2 + b2\n",
        "\n",
        "While the linear transformations are the same across different positions, they use different parameters from layer to layer. Another way of describing this is as two convolutions with kernel size 1. The dimensionality of input and output is d<sub>model</sub> = 512, and the inner-layer has dimensionality d<sub>dd</sub> = 2048."
      ]
    },
    {
      "cell_type": "code",
      "metadata": {
        "id": "_gERLx-1q9qC",
        "colab_type": "code",
        "colab": {}
      },
      "source": [
        "class PositionwiseFeedForward(nn.Module):\n",
        "  \"Implements FFN equation.\"\n",
        "  def __init__(self, d_model, d_ff, dropout=0.1):\n",
        "    super(PositionwiseFeedForward, self).__init__()\n",
        "    self.w_1 = nn.Linear(d_model, d_ff)\n",
        "    self.w_2 = nn.Linear(d_ff, d_model)\n",
        "    self.dropout = nn.Dropout(dropout)\n",
        "\n",
        "  def forward(self, x):\n",
        "    return self.w_2(self.dropout(F.relu(self.w_1(x))))"
      ],
      "execution_count": 0,
      "outputs": []
    },
    {
      "cell_type": "markdown",
      "metadata": {
        "id": "iutsAZ3qsQca",
        "colab_type": "text"
      },
      "source": [
        "### Embeddings and Softmax\n",
        "\n",
        "Similarly to other sequence transduction models, we use learned embeddings to convert the input tokens and output tokens to vectors of dimension d<sub>model</sub>. We also use the usual learned linear transformation and softmax function to convert the decoder output to predicted next-token probabilities. In our model, we share the same weight matrix between the two embedding layers and the pre-softmax linear transformation, similar to [(cite)](#). In the embedding layers, we multiply those weights by sqrt(d<sub>model</sub>).\n",
        "\n",
        "[Definition of transduction](https://machinelearningmastery.com/transduction-in-machine-learning/): To transduce means to convert something into another form."
      ]
    },
    {
      "cell_type": "code",
      "metadata": {
        "id": "f-ZSykLJujYE",
        "colab_type": "code",
        "colab": {}
      },
      "source": [
        "class Embeddings(nn.Module):\n",
        "  def __init__(self, d_model, vocab):\n",
        "    super(Embeddings, self).__init__()\n",
        "    self.lut = nn.Embedding(vocab, d_model)\n",
        "    self.d_model = d_model\n",
        "\n",
        "  def forward(self, x):\n",
        "    return self.lut(x) * math.sqrt(self.d_model)"
      ],
      "execution_count": 0,
      "outputs": []
    },
    {
      "cell_type": "markdown",
      "metadata": {
        "id": "InSVysxiuurD",
        "colab_type": "text"
      },
      "source": [
        "### Positional Encoding\n",
        "\n",
        "Since our model contains no recurrence and no convolution, in order for the model to make use of the order of the sequence, we must inject some information about the relative or absolute position of the tokens in the sequence. To this end, we add \"positional encodings\" to the input embeddings at the bottoms of the encoder and decoder stacks. The positional encodings have the same dimension d<sub>model</sub> as the embeddings, so that the two can be summed. There are many choices of positional encodings, learned and fixed.\n",
        "\n",
        "In this work, we use sine and cosine functions of different frequencies:\n",
        "- PE(pos, 2i) = sin(pos/10000^2i/dmodel)\n",
        "- PE(pos, 2i+1) = cos(pos/10000^2i/dmodel)\n",
        "where _pos_ is the position and _i_ is the dimension. That is, each dimension of the positional encoding corresponds to a sinusoid. The wavelengths form a geometric progression from 2pi to 10000*2pi. We chose this function because we hypothesized it would allow the model to easily learn to attend by relative positions, since for any fixed offset k, PE_pos+k can be represented as a linear function of PE_pos.\n",
        "\n",
        "In addition, we apply dropout to the sums of the embeddings and the positional encodings in both the encoder and decoder stacks. For the base model, we use a rate of P_drop = 0.1.\n"
      ]
    },
    {
      "cell_type": "code",
      "metadata": {
        "id": "Mke4-vHXxJPE",
        "colab_type": "code",
        "colab": {}
      },
      "source": [
        "class PositionalEncoding(nn.Module):\n",
        "  \"Implement the PE function.\"\n",
        "  def __init__(self, d_model, dropout, max_len=5000):\n",
        "    super(PositionalEncoding, self).__init__()\n",
        "    self.dropout = nn.Dropout(p=dropout)\n",
        "\n",
        "    # Compute the positional encodings once in log space.\n",
        "    pe = torch.zeros(max_len, d_model)\n",
        "    position = torch.arange(0, max_len).unsqueeze(1)\n",
        "    div_term = torch.exp(torch.arange(0, d_model, 2) * -(math.log(10000.0) / d_model))\n",
        "    pe[:, 0::2] = torch.sin(position * div_term)\n",
        "    pe[:, 1::2] = torch.cos(position * div_term)\n",
        "    pe = pe.unsqueeze(0)\n",
        "    self.register_buffer('pe', pe)\n",
        "\n",
        "  def forward(self, x):\n",
        "    x = x + Variable(self.pe[:, :x.size(1)], requires_grad=False)\n",
        "    return self.dropout(x)"
      ],
      "execution_count": 0,
      "outputs": []
    },
    {
      "cell_type": "markdown",
      "metadata": {
        "id": "M3QCQ74lxv-f",
        "colab_type": "text"
      },
      "source": [
        "Below the positional encoding will add in a since wave based on position. The frequency and offset of the wave is different for each dimension."
      ]
    },
    {
      "cell_type": "code",
      "metadata": {
        "id": "K8OeZkb1x4Dw",
        "colab_type": "code",
        "outputId": "a1de9a66-00ed-418a-e5c5-2d825f9a231b",
        "colab": {
          "base_uri": "https://localhost:8080/",
          "height": 353
        }
      },
      "source": [
        "plt.figure(figsize=(15, 5))\n",
        "pe = PositionalEncoding(20, 0)\n",
        "y = pe.forward(Variable(torch.zeros(1, 100, 20)))\n",
        "plt.plot(np.arange(100), y[0, :, 4:8].data.numpy())\n",
        "plt.legend([\"dim %d\"%p for p in [4,5,6,7]])\n",
        "None"
      ],
      "execution_count": 19,
      "outputs": [
        {
          "output_type": "display_data",
          "data": {
            "image/png": "[encoded data removed]",
            "text/plain": [
              "<Figure size 1080x360 with 1 Axes>"
            ]
          },
          "metadata": {
            "tags": []
          }
        }
      ]
    },
    {
      "cell_type": "markdown",
      "metadata": {
        "id": "AanfZSSmyHjs",
        "colab_type": "text"
      },
      "source": [
        "__We also experimented with using learned positional embeddings instead, and found that the two versions produced nearly identical results.__\n",
        "\n",
        "We chose the __sinusoidal version__ because it __may allow the model to extrapolate to sequence lengths longer than the ones encountered during training__."
      ]
    },
    {
      "cell_type": "markdown",
      "metadata": {
        "id": "ur2c9hdtybkV",
        "colab_type": "text"
      },
      "source": [
        "### Full Model\n",
        "\n",
        "Here we define a function that takes in hyperparameters and produces a full model."
      ]
    },
    {
      "cell_type": "code",
      "metadata": {
        "id": "E0DtZXT-o3s3",
        "colab_type": "code",
        "colab": {}
      },
      "source": [
        "def make_model(src_vocab, tgt_vocab, N=6,\n",
        "               d_model=512, d_ff=2048, h=8, dropout=0.1):\n",
        "  \"Helper: Construct a model from hyperparameters.\"\n",
        "  c = copy.deepcopy\n",
        "  attn = MultiHeadedAttention(h, d_model)\n",
        "  ff = PositionwiseFeedForward(d_model, d_ff, dropout)\n",
        "  position = PositionalEncoding(d_model, dropout)\n",
        "  model = EncoderDecoder(\n",
        "      Encoder(EncoderLayer(d_model, c(attn), c(ff), dropout), N),\n",
        "      Decoder(DecoderLayer(d_model, c(attn), c(attn), c(ff), dropout), N),\n",
        "      nn.Sequential(Embeddings(d_model, src_vocab), c(position)),\n",
        "      nn.Sequential(Embeddings(d_model, tgt_vocab), c(position)),\n",
        "      Generator(d_model, tgt_vocab)\n",
        "  )\n",
        "\n",
        "  # This was important from their code.\n",
        "  # Initialize parameters with Glorot / fan_avg.\n",
        "  for p in model.parameters():\n",
        "    if p.dim() > 1:\n",
        "      nn.init.xavier_uniform(p)\n",
        "  return model"
      ],
      "execution_count": 0,
      "outputs": []
    },
    {
      "cell_type": "code",
      "metadata": {
        "id": "1odq6P6FseSW",
        "colab_type": "code",
        "colab": {}
      },
      "source": [
        "# Small example model.\n",
        "tmp_model = make_model(10, 10, 2)\n",
        "None"
      ],
      "execution_count": 0,
      "outputs": []
    },
    {
      "cell_type": "markdown",
      "metadata": {
        "id": "XPIr6Ntfsja3",
        "colab_type": "text"
      },
      "source": [
        "### Training\n",
        "\n",
        "This section describes the training regime for our models.\n",
        "\n",
        "_We stop for a quick interlude to introduce some of the tools needed to train a standard encoder decoder model. First we define a batch object that holds the src and target sentences for training, as well as constructing the masks."
      ]
    },
    {
      "cell_type": "markdown",
      "metadata": {
        "id": "ndUgwnPpsw-n",
        "colab_type": "text"
      },
      "source": [
        "### Batches and Masking"
      ]
    },
    {
      "cell_type": "code",
      "metadata": {
        "id": "v6TBgEFZszie",
        "colab_type": "code",
        "colab": {}
      },
      "source": [
        "class Batch:\n",
        "  \"Object for holding a batch of data with mask during training.\"\n",
        "  def __init__(self, src, trg=None, pad=0):\n",
        "    self.src = src\n",
        "    self.src_mask = (src != pad).unsqueeze(-2)\n",
        "    if trg is not None:\n",
        "      self.trg = trg[:, :-1]\n",
        "      self.trg_y = trg[:, 1:]\n",
        "      self.trg_mask = self.make_std_mask(self.trg, pad)\n",
        "      self.ntokens = (self.trg_y != pad).data.sum()\n",
        "\n",
        "  @staticmethod\n",
        "  def make_std_mask(tgt, pad):\n",
        "    \"Create a mask to hide padding and future words.\"\n",
        "    tgt_mask = (tgt != pad).unsqueeze(-2)\n",
        "    tgt_mask = tgt_mask & Variable(\n",
        "        subsequent_mask(tgt.size(-1)).type_as(tgt_mask.data)\n",
        "    )\n",
        "    return tgt_mask"
      ],
      "execution_count": 0,
      "outputs": []
    },
    {
      "cell_type": "markdown",
      "metadata": {
        "id": "lu42mmqFta8k",
        "colab_type": "text"
      },
      "source": [
        "Next we create a generic training and scoring funtion to keep track of loss. We pass in a generic loss compute function that also handles parameter updates."
      ]
    },
    {
      "cell_type": "markdown",
      "metadata": {
        "id": "IROq7LZ6tj50",
        "colab_type": "text"
      },
      "source": [
        "### Training Loop"
      ]
    },
    {
      "cell_type": "code",
      "metadata": {
        "id": "8YBmkYJztlyA",
        "colab_type": "code",
        "colab": {}
      },
      "source": [
        "def run_epoch(data_iter, model, loss_compute):\n",
        "  \"Standard Training and Logging Function\"\n",
        "  start = time.time()\n",
        "  total_tokens = 0\n",
        "  total_loss = 0\n",
        "  tokens = 0\n",
        "  for i, batch in enumerate(data_iter):\n",
        "    out = model.forward(batch.src, batch.trg, batch.src_mask, batch.trg_mask)\n",
        "    loss = loss_compute(out, batch.trg_y, batch.ntokens)\n",
        "    total_loss += loss\n",
        "    total_tokens += batch.ntokens\n",
        "    tokens += batch.ntokens\n",
        "    if i % 50 == 1:\n",
        "      elapsed = time.time() - start\n",
        "      print(\"Epoch Step: %d Loss: %f Tokens per Sec: %f\" % (i, loss / batch.ntokens, tokens / elapsed))\n",
        "      start = time.time()\n",
        "      tokens = 0\n",
        "  return total_loss / total_tokens"
      ],
      "execution_count": 0,
      "outputs": []
    },
    {
      "cell_type": "markdown",
      "metadata": {
        "id": "4L94GVC1uVy1",
        "colab_type": "text"
      },
      "source": [
        "### Training Data and Batching\n",
        "\n",
        "We trained on the standard WMT 2014 English-German dataset consisting of about 4.5 million sentence pairs. Sentences were encoded using byte-pair encoding, which has a shared source-target vocabulary of about 37000 tokens. For English-French, we used the significantly larger WMT 2014 English-French dataset consisting of 36M sentences and split tokens into a 32000 word-piece vocabulary.\n",
        "\n",
        "Sentence pairs were batched together by approximately sequence length. Each training batch contained a set of sentence pairs containing approximately 25000 source tokens and 25000 target tokens.\n",
        "\n",
        "_We will use torch text for batching. This is discussed in more detail below. Here we create batches in a torchtext function that ensures our batch size padded to the maaximum batchsize does not surpass a threshold (25000 if we have 8 gpus)."
      ]
    },
    {
      "cell_type": "code",
      "metadata": {
        "id": "Tvi6hCVzu9kj",
        "colab_type": "code",
        "colab": {}
      },
      "source": [
        "global max_src_in_batch, max_tgt_in_batch\n",
        "def batch_size_fn(new, count, sofar):\n",
        "  \"Keep augmenting batch and calculate total number of tokens + padding.\"\n",
        "  global max_src_in_batch, max_tgt_in_batch\n",
        "  if count == 1:\n",
        "    max_src_in_batch = 0\n",
        "    max_tgt_in_batch = 0\n",
        "  max_src_in_batch = max(max_src_in_batch, len(new.src))\n",
        "  max_tgt_in_batch = max(max_tgt_in_batch, len(new.trg) + 2)\n",
        "  src_elements = count * max_src_in_batch\n",
        "  tgt_elements = count * max_tgt_in_batch\n",
        "  return max(src_elements, tgt_elements)"
      ],
      "execution_count": 0,
      "outputs": []
    },
    {
      "cell_type": "markdown",
      "metadata": {
        "id": "NKqdRE9pvyV9",
        "colab_type": "text"
      },
      "source": [
        "### Hardware and Schedule\n",
        "\n",
        "We trained our models on one machine with 8 NVIDIA P100 GPUs. For our base models using the hyperparameters described through the paper, each training step took about 0.4 seconds. We trained the base models for a total of 100,000 steps or 12 hours. For our big models, step time was 1.0 seconds. The big models were trained for 300,000 steps (3.5 days)."
      ]
    },
    {
      "cell_type": "markdown",
      "metadata": {
        "id": "Wri7bhiXwEM9",
        "colab_type": "text"
      },
      "source": [
        "### Optimizer\n",
        "\n",
        "We used the Adam optimizer with b1 = 0.9, b2 = 0.98 and e = 10^-9. We varied the learning rate over the course of training, according to the formula: lrate = dmodel^-0.5 * min(step_num^-0.5, step_num * warmupsteps^-1.5). This corresponds to increasing the learning rate linearly for the first warmupsteps training steps, and decreasing it thereafter proportionally to the inverse square root of the step number. We used warmupsteps = 4000.\n",
        "\n",
        "> Note: This part is very important. Need to train with this setup of the model."
      ]
    },
    {
      "cell_type": "code",
      "metadata": {
        "id": "0fsdUo_Fwegh",
        "colab_type": "code",
        "colab": {}
      },
      "source": [
        "class NoamOpt:\n",
        "  \"Optim wrapper that implements rate.\"\n",
        "  def __init__(self, model_size, factor, warmup, optimizer):\n",
        "    self.optimizer = optimizer\n",
        "    self._step = 0\n",
        "    self.warmup = warmup\n",
        "    self.factor = factor\n",
        "    self.model_size = model_size\n",
        "    self._rate = 0\n",
        "\n",
        "  def step(self):\n",
        "    \"Update parameters and rate\"\n",
        "    self._step += 1\n",
        "    rate = self.rate()\n",
        "    for p in self.optimizer.param_groups:\n",
        "      p['lr'] = rate\n",
        "    self._rate = rate\n",
        "    self.optimizer.step()\n",
        "\n",
        "  def rate(self, step = None):\n",
        "    \"Implement `lrate` above\"\n",
        "    if step is None:\n",
        "      step = self._step\n",
        "    return self.factor * \\\n",
        "        (self.model_size ** (-0.5) * \n",
        "         min(step ** (-0.5), step * self.warmup ** (-1.5)))\n",
        "        \n",
        "  def get_std_opt(model):\n",
        "    return NoamOpt(model.src_embed[0].d_model, 2, 4000,\n",
        "                  torch.optim.Adam(model.parameters(), lr=0, betas=(0.9, 0.98), eps=1e-9))"
      ],
      "execution_count": 0,
      "outputs": []
    },
    {
      "cell_type": "markdown",
      "metadata": {
        "id": "5VFqkJGpxy6Q",
        "colab_type": "text"
      },
      "source": [
        "> Example of the curves of this model for different model sizes and for optimization hyperparameters."
      ]
    },
    {
      "cell_type": "code",
      "metadata": {
        "id": "CCgmX3cHx4He",
        "colab_type": "code",
        "colab": {
          "base_uri": "https://localhost:8080/",
          "height": 279
        },
        "outputId": "360aba09-5f30-4994-80e0-de3b86ea1a30"
      },
      "source": [
        "# Three settings of the lrate hyperparameters.\n",
        "opts = [NoamOpt(512, 1, 4000, None),\n",
        "        NoamOpt(512, 1, 8000, None),\n",
        "        NoamOpt(256, 1, 4000, None)]\n",
        "plt.plot(np.arange(1, 20000), [[opt.rate(i) for opt in opts] for i in range(1, 20000)])\n",
        "plt.legend([\"512:4000\", \"512:8000\", \"256:4000\"])\n",
        "None"
      ],
      "execution_count": 27,
      "outputs": [
        {
          "output_type": "display_data",
          "data": {
            "image/png": "[encoded data removed]",
            "text/plain": [
              "<Figure size 432x288 with 1 Axes>"
            ]
          },
          "metadata": {
            "tags": []
          }
        }
      ]
    },
    {
      "cell_type": "markdown",
      "metadata": {
        "id": "6OrKnJ7myKnN",
        "colab_type": "text"
      },
      "source": [
        "### Regularization\n",
        "\n",
        "### Label Smoothing\n",
        "\n",
        "During training, we employed label smoothing of value els = 0.1. This hurts perplexity, as the model learns to be more unsure, but improves accuracy and BLEU score.\n",
        "\n",
        "> We implement label smoothing using the KL div loss. Instead of using a one-hot target distribution, we create a distribution that has `confidence` of the correct word and the rest of the `smoothing` mass distributed throughout the vocabulary."
      ]
    },
    {
      "cell_type": "code",
      "metadata": {
        "id": "twu_q_jQ4yw8",
        "colab_type": "code",
        "colab": {}
      },
      "source": [
        "class LabelSmoothing(nn.Module):\n",
        "  \"Implement label smoothing.\"\n",
        "  def __init__(self, size, padding_idx, smoothing=0.0):\n",
        "    super(LabelSmoothing, self).__init__()\n",
        "    self.criterion = nn.KLDivLoss(size_average=False)\n",
        "    self.padding_idx = padding_idx\n",
        "    self.confidence = 1.0 - smoothing\n",
        "    self.smoothing = smoothing\n",
        "    self.size = size\n",
        "    self.true_dist = None\n",
        "\n",
        "  def forward(self, x, target):\n",
        "    assert x.size(1) == self.size\n",
        "    true_dist = x.data.clone()\n",
        "    true_dist.fill_(self.smoothing / (self.size - 2))\n",
        "    true_dist.scatter_(1, target.data.unsqueeze(1), self.confidence)\n",
        "    true_dist[:, self.padding_idx] = 0\n",
        "    mask = torch.nonzero(target.data == self.padding_idx)\n",
        "    if mask.dim() > 0:\n",
        "      true_dist.index_fill_(0, mask.squeeze(), 0.0)\n",
        "    self.true_dist = true_dist\n",
        "    return self.criterion(x, Variable(true_dist, requires_grad=False))"
      ],
      "execution_count": 0,
      "outputs": []
    },
    {
      "cell_type": "markdown",
      "metadata": {
        "id": "wgUAkHGN5bed",
        "colab_type": "text"
      },
      "source": [
        "> Here we can see an example of how the mass is distributed to the words based on confidence."
      ]
    },
    {
      "cell_type": "code",
      "metadata": {
        "id": "TNx0H7p55fzH",
        "colab_type": "code",
        "colab": {
          "base_uri": "https://localhost:8080/",
          "height": 269
        },
        "outputId": "c2c84047-4da9-444d-f687-d0d3aab10a7f"
      },
      "source": [
        "# Example of label smoothing.\n",
        "crit = LabelSmoothing(5, 0, 0.4)\n",
        "predict = torch.FloatTensor([[0, 0.2, 0.7, 0.1, 0],\n",
        "                             [0, 0.2, 0.7, 0.1, 0],\n",
        "                             [0, 0.2, 0.7, 0.1, 0]])\n",
        "v = crit(Variable(predict.log()),\n",
        "         Variable(torch.LongTensor([2, 1, 0])))\n",
        "\n",
        "# Show the target distributions expected by the system.\n",
        "plt.imshow(crit.true_dist)\n",
        "None"
      ],
      "execution_count": 29,
      "outputs": [
        {
          "output_type": "display_data",
          "data": {
            "image/png": "[encoded data removed]",
            "text/plain": [
              "<Figure size 432x288 with 1 Axes>"
            ]
          },
          "metadata": {
            "tags": []
          }
        }
      ]
    },
    {
      "cell_type": "markdown",
      "metadata": {
        "id": "4-mYZr7B5432",
        "colab_type": "text"
      },
      "source": [
        "> Label smoothing actually starts to penalize the model if it gets very confident about a given choice."
      ]
    },
    {
      "cell_type": "code",
      "metadata": {
        "id": "eZ-xTbwm7uj2",
        "colab_type": "code",
        "colab": {
          "base_uri": "https://localhost:8080/",
          "height": 279
        },
        "outputId": "4b3e1d5e-c695-43aa-a8fa-cd8b46e27ff8"
      },
      "source": [
        "crit = LabelSmoothing(5, 0, 0.1)\n",
        "\n",
        "def loss(x):\n",
        "  d = x + 3 * 1\n",
        "  predict = torch.FloatTensor([[0, x/d, 1/d, 1/d, 1/d],])\n",
        "\n",
        "  # print(predict)\n",
        "  return crit(Variable(predict.log()), Variable(torch.LongTensor([1]))).data[0]\n",
        "\n",
        "\n",
        "plt.plot(np.arange(1, 100), [loss(x) for x in range(1, 100)])\n",
        "None"
      ],
      "execution_count": 32,
      "outputs": [
        {
          "output_type": "display_data",
          "data": {
            "image/png": "[encoded data removed]",
            "text/plain": [
              "<Figure size 432x288 with 1 Axes>"
            ]
          },
          "metadata": {
            "tags": []
          }
        }
      ]
    },
    {
      "cell_type": "code",
      "metadata": {
        "id": "bpz-yFEl8NRh",
        "colab_type": "code",
        "colab": {}
      },
      "source": [
        ""
      ],
      "execution_count": 0,
      "outputs": []
    }
  ]
}