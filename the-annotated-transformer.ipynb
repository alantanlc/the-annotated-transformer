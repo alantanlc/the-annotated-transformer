{
  "nbformat": 4,
  "nbformat_minor": 0,
  "metadata": {
    "kernelspec": {
      "name": "python3",
      "display_name": "Python 3"
    },
    "language_info": {
      "codemirror_mode": {
        "name": "ipython",
        "version": 3
      },
      "file_extension": ".py",
      "mimetype": "text/x-python",
      "name": "python",
      "nbconvert_exporter": "python",
      "pygments_lexer": "ipython3",
      "version": "3.7.4"
    },
    "colab": {
      "name": "the-annotated-transformer.ipynb",
      "provenance": [],
      "include_colab_link": true
    },
    "accelerator": "GPU"
  },
  "cells": [
    {
      "cell_type": "markdown",
      "metadata": {
        "id": "view-in-github",
        "colab_type": "text"
      },
      "source": [
        "<a href=\"https://colab.research.google.com/github/alanwuha/the-annotated-transformer/blob/master/the-annotated-transformer.ipynb\" target=\"_parent\"><img src=\"https://colab.research.google.com/assets/colab-badge.svg\" alt=\"Open In Colab\"/></a>"
      ]
    },
    {
      "cell_type": "markdown",
      "metadata": {
        "id": "UScI1O5VySa3",
        "colab_type": "text"
      },
      "source": [
        "# Attention Is All You Need"
      ]
    },
    {
      "cell_type": "markdown",
      "metadata": {
        "id": "ssbT2os45Kie",
        "colab_type": "text"
      },
      "source": [
        "## Abstract\n",
        "\n",
        "The dominant sequence transduction models are based on complex recurrent or convolutional neural networks that include and __encoder__ and a __decoder__. The best performing models also connect the encoder and decoder through an attention mechanism.\n",
        "\n",
        "We propose a new simple network architecture, the __Transformer__, __based solely on attention mechanisms__, dispensing with recurrence and convolutions entirely.\n",
        "\n",
        "Experiments on __two machine translation tasks__ show these models to be __superior in quality__ while being __more parallelizable__ and requiring significantly __less time to train__.\n",
        "\n",
        "Our model achieves 28.4 BLEU on the WMT 2014 English-to-German translation task, improving over the existing best results, including ensembles, by over 2 BLEU. On the WMT 2014 English-to-French translation task, our model establishes a new single-model state-of-the-art BLEU score of 41.8 after training for 3.5 days on eight GPUs, a small fraction of the training costs of the best models from the literature.\n",
        "\n",
        "We show that the Transformer generalizes well to other tasks by applying it successfully to English constituency parsing both with large and limited training data.\n",
        "\n",
        "## Major points of this new Transformer architecture:\n",
        "1. Superior in quality\n",
        "1. More parallelizable\n",
        "1. Significantly less time to train"
      ]
    },
    {
      "cell_type": "markdown",
      "metadata": {
        "id": "t9Vt7vvW6xAZ",
        "colab_type": "text"
      },
      "source": [
        "## Prelims"
      ]
    },
    {
      "cell_type": "code",
      "metadata": {
        "id": "yTaGaFOl7bOV",
        "colab_type": "code",
        "colab": {
          "base_uri": "https://localhost:8080/",
          "height": 241
        },
        "outputId": "b36d674a-6c5d-432c-a91c-1f7590a8148e"
      },
      "source": [
        "!pip install http://download.pytorch.org/whl/cu80/torch-0.3.0.post4-cp36-cp36m-linux_x86_64.whl"
      ],
      "execution_count": 2,
      "outputs": [
        {
          "output_type": "stream",
          "text": [
            "Collecting torch==0.3.0.post4\n",
            "\u001b[?25l  Downloading http://download.pytorch.org/whl/cu80/torch-0.3.0.post4-cp36-cp36m-linux_x86_64.whl (592.3MB)\n",
            "\u001b[K     |████████████████████████████████| 592.3MB 1.1MB/s \n",
            "\u001b[?25hRequirement already satisfied: numpy in /usr/local/lib/python3.6/dist-packages (from torch==0.3.0.post4) (1.18.2)\n",
            "Requirement already satisfied: pyyaml in /usr/local/lib/python3.6/dist-packages (from torch==0.3.0.post4) (3.13)\n",
            "\u001b[31mERROR: torchvision 0.5.0 has requirement torch==1.4.0, but you'll have torch 0.3.0.post4 which is incompatible.\u001b[0m\n",
            "\u001b[31mERROR: fastai 1.0.60 has requirement torch>=1.0.0, but you'll have torch 0.3.0.post4 which is incompatible.\u001b[0m\n",
            "Installing collected packages: torch\n",
            "  Found existing installation: torch 1.4.0\n",
            "    Uninstalling torch-1.4.0:\n",
            "      Successfully uninstalled torch-1.4.0\n",
            "Successfully installed torch-0.3.0.post4\n"
          ],
          "name": "stdout"
        }
      ]
    },
    {
      "cell_type": "code",
      "metadata": {
        "id": "pKO52znl7kZq",
        "colab_type": "code",
        "colab": {}
      },
      "source": [
        "import numpy as np\n",
        "import torch\n",
        "import torch.nn as nn\n",
        "import torch.nn.functional as F\n",
        "import math, copy, time\n",
        "from torch.autograd import Variable\n",
        "import matplotlib.pyplot as plt\n",
        "import seaborn\n",
        "seaborn.set_context(context=\"talk\")\n",
        "%matplotlib inline"
      ],
      "execution_count": 0,
      "outputs": []
    },
    {
      "cell_type": "markdown",
      "metadata": {
        "id": "1_rDCxUL7xz6",
        "colab_type": "text"
      },
      "source": [
        "## Background\n",
        "\n",
        "The goal of reducing sequential computation also forms the foundation of the Extended Neural GPU, ByteNet and ConvS2S, all of which use convolutional neural networks as basic building blocks, computing hidden representations in parallel for all input and output positions. In these models, the number of operations required to relate signals from two arbitrary input or output positions grows in the distance between positions, linearly for ConvS2S and logarithmically for ByteNet. This makes it more difficult to learn dependencies between distant positions. In the Transformer this is reduced to a constant number of operations, albeit at the cost of reduced effective resolution due to averaging attention-weighted positions, an effect we counteract with Multi-Head Attention.\n",
        "\n",
        "Self-attention, sometimes called intra-attention is an attention mechanism relating different positions of a single sequence in order to compute a representation of the sequence. Self-attention has been used successfully in a variety of tasks including reading comprehension, abstractive summarization, textual entailment and learning task-independent sentence representations. End-to-end memory networks are based on a recurrent attention mechanism instead of sequence aligned recurrence and have been shown to perform well on simple-language question answering and language modeling tasks.\n",
        "\n",
        "__To the best of our knowledge, however, the Transformer is the first transduction model relying entirely on self-attention to compute representations of its input and output without using sequence aligned RNNs or convolution.__"
      ]
    },
    {
      "cell_type": "markdown",
      "metadata": {
        "id": "zhrqRxSf98f0",
        "colab_type": "text"
      },
      "source": [
        "## Model Architecture\n",
        "\n",
        "__Most competitive neural sequence transduction models have an encoder-decoder structure__.\n",
        "\n",
        "Here, the encoder maps an input sequence of symbol representations (x1, ..., xn) to a sequence of continuous representations z = (z1, ..., zn). Given __z__, the decoder then generates an output sequence (y1, ..., ym) of symbols one element at a time. At each step the model is __auto-regressive__, consuming the previously generated symbols as additional input when generating the next.\n",
        "\n",
        "1. __Encoder__: maps input sequence of symbol representations (x1, ..., xn) to a sequence of continuous representations z = (z1, ..., zn).\n",
        "1. __Decoder__: given z, decoder generates an output sequence (y1, ..., ym) of symbols one element at a time.\n",
        "1. __Auto-regressive__: A time series model that uses observations from previous time steps as input to a regression equation to predict the value at the next time step. It is a very __simple idea that can result in accurate forecasts on a range of time series problems__."
      ]
    },
    {
      "cell_type": "code",
      "metadata": {
        "id": "n-UPzSw8_IK8",
        "colab_type": "code",
        "colab": {}
      },
      "source": [
        "class EncoderDecoder(nn.Module):\n",
        "  \"\"\"\n",
        "  A standard Encoder-Decoder architecture. Base for this and many other models.\n",
        "  \"\"\"\n",
        "  def __init__(self, encoder, decoder, src_embed, tgt_embed, generator):\n",
        "    super(EncoderDecoder, self).__init__()\n",
        "    self.encoder = encoder\n",
        "    self.decoder = decoder\n",
        "    self.src_embed = src_embed\n",
        "    self.tgt_embed = tgt_embed\n",
        "    self.generator = generator\n",
        "\n",
        "  def forward(self, src, tgt, src_mask, tgt_mask):\n",
        "    \"Take in and process masked src and target sequences.\"\n",
        "    return self.decode( self.encode(src, src_mask), src_mask, tgt, tgt_mask )\n",
        "\n",
        "  def encode(self, src, src_mask):\n",
        "    return self.encoder( self.src_embed(src), src_mask )\n",
        "\n",
        "  def decode(self, memory, src_mask, tgt, tgt_mask):\n",
        "    return self.decoder( self.tgt_embed(tgt), memory, src_mask, tgt_mask )"
      ],
      "execution_count": 0,
      "outputs": []
    },
    {
      "cell_type": "code",
      "metadata": {
        "id": "oHT9ZWCKCDiN",
        "colab_type": "code",
        "colab": {}
      },
      "source": [
        "class Generator(nn.Module):\n",
        "  \"Define standard linear + softmax generation step.\"\n",
        "  def __init__(self, d_model, vocab):\n",
        "    super(Generator, self).__init__()\n",
        "    self.proj = nn.Linear(d_model, vocab)\n",
        "\n",
        "  def forward(self, x):\n",
        "    return F.log_softmax(self.proj(x), dim=-1)"
      ],
      "execution_count": 0,
      "outputs": []
    },
    {
      "cell_type": "markdown",
      "metadata": {
        "id": "OSnyfL8ICSDH",
        "colab_type": "text"
      },
      "source": [
        "The Transformer follows this overall architecture using stacked self-attention and point-wise, fully connected layers for both the encoder and decoder, shown in the left and right halves of Figure 1, respectively."
      ]
    },
    {
      "cell_type": "markdown",
      "metadata": {
        "id": "9SqJDSUDCkqw",
        "colab_type": "text"
      },
      "source": [
        "## Encoder and Decoder Stacks"
      ]
    },
    {
      "cell_type": "markdown",
      "metadata": {
        "id": "6pLcPg17C_qQ",
        "colab_type": "text"
      },
      "source": [
        "### Encoder\n",
        "\n",
        "The encoder is composed of a stack of N = 6 identical layers."
      ]
    },
    {
      "cell_type": "code",
      "metadata": {
        "id": "6_yKInE_DEQ6",
        "colab_type": "code",
        "colab": {}
      },
      "source": [
        "def clones(module, N):\n",
        "  \"Produce N identical layers.\"\n",
        "  return nn.ModuleList([copy.deepcopy(module) for _ in range(N)])"
      ],
      "execution_count": 0,
      "outputs": []
    },
    {
      "cell_type": "code",
      "metadata": {
        "id": "-ev9XNivDRpF",
        "colab_type": "code",
        "colab": {}
      },
      "source": [
        "class Encoder(nn.Module):\n",
        "  \"Core encoder is a stack of N layers\"\n",
        "  def __init__(self, layer, N):\n",
        "    super(Encoder, self).__init__()\n",
        "    self.layers = clones(layer, N)\n",
        "    self.norm = LayerNorm(layer.size)\n",
        "\n",
        "  def forward(self, x, mask):\n",
        "    \"Pass the input (and mask) through each layer in turn.\"\n",
        "    for layer in self.layers:\n",
        "      x = layer(x, mask)\n",
        "    return self.norm(x)"
      ],
      "execution_count": 0,
      "outputs": []
    },
    {
      "cell_type": "markdown",
      "metadata": {
        "id": "9jPCHFWyDtFe",
        "colab_type": "text"
      },
      "source": [
        "We employ a residual connection [(cite)](https://arxiv.org/abs/1512.03385) around each of the two sub-layers, followed by layer normalization [(cite)](https://arxiv.org/abs/1607.06450)."
      ]
    },
    {
      "cell_type": "code",
      "metadata": {
        "id": "6-fN8PMgD5XH",
        "colab_type": "code",
        "colab": {}
      },
      "source": [
        "class LayerNorm(nn.Module):\n",
        "  \"Construct a layernorm module (See citation for details).\"\n",
        "  def __init__(self, features, eps=1e-6):\n",
        "    super(LayerNorm, self).__init__()\n",
        "    self.a_2 = nn.Parameter(torch.ones(features))\n",
        "    self.b_2 = nn.Parameter(torch.zeros(features))\n",
        "    self.eps = eps\n",
        "\n",
        "  def forward(self, x):\n",
        "    mean = x.mean(-1, keepdim=True)\n",
        "    std = x.std(-1, keepdim=True)\n",
        "    return self.a_2 * (x - mean) / (std + self.eps) + self.b_2"
      ],
      "execution_count": 0,
      "outputs": []
    },
    {
      "cell_type": "markdown",
      "metadata": {
        "id": "dQofrS-XFMvJ",
        "colab_type": "text"
      },
      "source": [
        "That is, the output of each sub-layer is __LayerNorm(x + Sublayer(x))__, where Sublayer(x) is the function implemented by the sub-layer itself. We apply dropout [(cite)](http://jmlr.org/papers/v15/srivastava14a.html) to the output of each sub-layer, before it is added to the sub-layer input and normalized.\n",
        "\n",
        "To facilitate these residual connections, all sub-layers in the model, as well as the embedding layers, produce outputs of dimension _d_<sub>model</sub> = 512."
      ]
    },
    {
      "cell_type": "code",
      "metadata": {
        "id": "WBOaVeR3HHfG",
        "colab_type": "code",
        "colab": {}
      },
      "source": [
        "class SublayerConnection(nn.Module):\n",
        "  \"\"\"\n",
        "  A residual connection followed by a layer norm.\n",
        "  Note for code simplicity the norm is first as opposed to last.\n",
        "  \"\"\"\n",
        "  def __init__(self, size, dropout):\n",
        "    super(SublayerConnection, self).__init__()\n",
        "    self.norm = LayerNorm(size)\n",
        "    self.dropout = nn.Dropout(dropout)\n",
        "\n",
        "  def forward(self, x, sublayer):\n",
        "    \"Apply residual connection to any sublayer with the same size.\"\n",
        "    return x + self.dropout(sublayer(self.norm(x)))"
      ],
      "execution_count": 0,
      "outputs": []
    },
    {
      "cell_type": "markdown",
      "metadata": {
        "id": "Qk8dK9oMHtUE",
        "colab_type": "text"
      },
      "source": [
        "Each layer has two sub-layers. The first is a multi-head self-attention mechanism, and the second is a simple, position-wise fully connected feed-forward network."
      ]
    },
    {
      "cell_type": "code",
      "metadata": {
        "id": "BJc9LjFWJt1U",
        "colab_type": "code",
        "colab": {}
      },
      "source": [
        "class EncoderLayer(nn.Module):\n",
        "  \"Encoder is made up of self-attention and feed forward (defined below)\"\n",
        "  def __init__(self, size, self_attn, feed_forward, dropout):\n",
        "    super(EncoderLayer, self).__init__()\n",
        "    self.self_attn = self_attn\n",
        "    self.feed_forward = feed_forward\n",
        "    self.sublayer = clones(SublayerConnection(size, dropout), 2)\n",
        "    self.size = size\n",
        "\n",
        "  def forward(self, x, mask):\n",
        "    \"Follow Figure 1 (left) for connections.\"\n",
        "    x = self.sublayer[0](x, lambda x: self.self_attn(x, x, x, mask))\n",
        "    return self.sublayer[1](x, self.feed_forward)"
      ],
      "execution_count": 0,
      "outputs": []
    },
    {
      "cell_type": "markdown",
      "metadata": {
        "id": "G3yZT7wlLQVe",
        "colab_type": "text"
      },
      "source": [
        "### Decoder\n",
        "\n",
        "The decoder is also composed of a stack of N = 6 identical layers."
      ]
    },
    {
      "cell_type": "code",
      "metadata": {
        "id": "_iU3jozRLXgz",
        "colab_type": "code",
        "colab": {}
      },
      "source": [
        ""
      ],
      "execution_count": 0,
      "outputs": []
    }
  ]
}